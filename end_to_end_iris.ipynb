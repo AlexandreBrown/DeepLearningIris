{
 "cells": [
  {
   "cell_type": "code",
   "execution_count": 1,
   "metadata": {},
   "outputs": [],
   "source": [
    "import numpy as np\n",
    "import torch\n",
    "import torch.nn as nn\n",
    "import matplotlib.pyplot as plt\n",
    "import random\n",
    "from torch.utils.data import TensorDataset\n",
    "from torch.utils.data import DataLoader\n",
    "from torch.utils.tensorboard import SummaryWriter\n",
    "from sklearn.datasets import load_iris\n",
    "from sklearn.model_selection import train_test_split\n",
    "\n",
    "RANDOM_SEED=42\n",
    "\n",
    "torch.manual_seed(RANDOM_SEED)\n",
    "np.random.seed(RANDOM_SEED)\n",
    "random.seed(RANDOM_SEED)"
   ]
  },
  {
   "attachments": {},
   "cell_type": "markdown",
   "metadata": {},
   "source": [
    "# Download Dataset"
   ]
  },
  {
   "cell_type": "code",
   "execution_count": 2,
   "metadata": {},
   "outputs": [],
   "source": [
    "iris = load_iris()\n",
    "X = iris['data']\n",
    "y = iris['target']\n",
    "\n",
    "X_train, X_test, y_train, y_test = train_test_split(X, y, test_size=1./3, random_state=RANDOM_SEED)"
   ]
  },
  {
   "attachments": {},
   "cell_type": "markdown",
   "metadata": {},
   "source": [
    "# Normalization"
   ]
  },
  {
   "cell_type": "code",
   "execution_count": 3,
   "metadata": {},
   "outputs": [],
   "source": [
    "train_mean = np.mean(X_train)\n",
    "train_std = np.std(X_train)\n",
    "\n",
    "X_train_normalized = torch.from_numpy((X_train - train_mean) / train_std).float()\n",
    "X_test_normalized = torch.from_numpy((X_test - train_mean) / train_std).float()\n",
    "\n",
    "y_train = torch.from_numpy(y_train)\n",
    "y_test = torch.from_numpy(y_test)"
   ]
  },
  {
   "attachments": {},
   "cell_type": "markdown",
   "metadata": {},
   "source": [
    "# Datasets & Data Loaders"
   ]
  },
  {
   "cell_type": "code",
   "execution_count": 4,
   "metadata": {},
   "outputs": [],
   "source": [
    "train_ds = TensorDataset(X_train_normalized, y_train)\n",
    "train_dl = DataLoader(train_ds, batch_size=2, shuffle=True)"
   ]
  },
  {
   "attachments": {},
   "cell_type": "markdown",
   "metadata": {},
   "source": [
    "# Model Definition"
   ]
  },
  {
   "cell_type": "code",
   "execution_count": 5,
   "metadata": {},
   "outputs": [],
   "source": [
    "class Model(nn.Module):\n",
    "    def __init__(self, input_size: int, hidden_size: int, output_size: int):\n",
    "        super().__init__()\n",
    "        self.layer1 = nn.Linear(input_size, hidden_size)\n",
    "        self.layer2 = nn.Linear(hidden_size, output_size)\n",
    "    \n",
    "    \n",
    "    def forward(self, x):\n",
    "        x = self.layer1(x)\n",
    "        x = torch.sigmoid(x)\n",
    "        \n",
    "        x = self.layer2(x)\n",
    "        x = torch.softmax(x, dim=1)\n",
    "        \n",
    "        return x"
   ]
  },
  {
   "cell_type": "code",
   "execution_count": 6,
   "metadata": {},
   "outputs": [],
   "source": [
    "model = Model(input_size=X_train_normalized.shape[1], hidden_size=16, output_size=3)"
   ]
  },
  {
   "cell_type": "code",
   "execution_count": 7,
   "metadata": {},
   "outputs": [],
   "source": [
    "writer = SummaryWriter(log_dir=\"runs/iris6\")"
   ]
  },
  {
   "cell_type": "code",
   "execution_count": 8,
   "metadata": {},
   "outputs": [],
   "source": [
    "writer.add_graph(model, input_to_model=torch.rand(2, 4))\n",
    "writer.flush()"
   ]
  },
  {
   "attachments": {},
   "cell_type": "markdown",
   "metadata": {},
   "source": [
    "# Training Loop"
   ]
  },
  {
   "cell_type": "code",
   "execution_count": 9,
   "metadata": {},
   "outputs": [],
   "source": [
    "def train(model: nn.Module, \n",
    "          optimizer: torch.optim.Optimizer, \n",
    "          loss_fn, \n",
    "          train_dl: DataLoader,\n",
    "          num_epochs: int\n",
    "    ) -> tuple:\n",
    "    \n",
    "    model.train()\n",
    "    \n",
    "    epochs_loss_history = []\n",
    "    epochs_train_accuracy_history = []\n",
    "    labels = []\n",
    "    preds = []\n",
    "    \n",
    "    for epoch_index in range(num_epochs):\n",
    "        \n",
    "        epoch_loss_history = []\n",
    "        epoch_train_accuracy_history = []\n",
    "        \n",
    "        for x_batch, y_batch in train_dl:\n",
    "            predictions = model(x_batch)\n",
    "            \n",
    "            loss = loss_fn(predictions, y_batch)\n",
    "            \n",
    "            loss.backward()\n",
    "            optimizer.step()\n",
    "            optimizer.zero_grad()\n",
    "            \n",
    "            epoch_loss_history.append(loss.item())\n",
    "            \n",
    "            correct_predictions = (torch.argmax(predictions, axis=1) == y_batch).int()\n",
    "            batch_correct_predictions_count = correct_predictions.sum().item()\n",
    "            train_batch_accuracy = batch_correct_predictions_count / x_batch.shape[0]\n",
    "            epoch_train_accuracy_history.append(train_batch_accuracy)\n",
    "            \n",
    "        \n",
    "        epochs_loss_history.append(np.array(epoch_loss_history).mean())\n",
    "        epochs_train_accuracy_history.append(np.array(epoch_train_accuracy_history).mean())\n",
    "        \n",
    "        writer.add_scalar('train_loss', epochs_loss_history[epoch_index], epoch_index)\n",
    "        writer.add_scalar('train_acc', epochs_train_accuracy_history[epoch_index], epoch_index)\n",
    "        \n",
    "        print(f\"Epoch {epoch_index + 1}/{num_epochs} | train_loss: {epochs_loss_history[epoch_index]:.4f} | train_acc: {epochs_train_accuracy_history[epoch_index]*100:.2f}%\")\n",
    "    \n",
    "    writer.close()\n",
    "    return epochs_loss_history, epochs_train_accuracy_history"
   ]
  },
  {
   "attachments": {},
   "cell_type": "markdown",
   "metadata": {},
   "source": [
    "# Train Model"
   ]
  },
  {
   "cell_type": "code",
   "execution_count": 10,
   "metadata": {},
   "outputs": [
    {
     "name": "stdout",
     "output_type": "stream",
     "text": [
      "Epoch 1/100 | train_loss: 1.0761 | train_acc: 42.00%\n",
      "Epoch 2/100 | train_loss: 0.9370 | train_acc: 65.00%\n",
      "Epoch 3/100 | train_loss: 0.8329 | train_acc: 74.00%\n",
      "Epoch 4/100 | train_loss: 0.7785 | train_acc: 92.00%\n",
      "Epoch 5/100 | train_loss: 0.7337 | train_acc: 90.00%\n",
      "Epoch 6/100 | train_loss: 0.7039 | train_acc: 92.00%\n",
      "Epoch 7/100 | train_loss: 0.6818 | train_acc: 92.00%\n",
      "Epoch 8/100 | train_loss: 0.6650 | train_acc: 93.00%\n",
      "Epoch 9/100 | train_loss: 0.6651 | train_acc: 90.00%\n",
      "Epoch 10/100 | train_loss: 0.6470 | train_acc: 94.00%\n",
      "Epoch 11/100 | train_loss: 0.6441 | train_acc: 92.00%\n",
      "Epoch 12/100 | train_loss: 0.6345 | train_acc: 94.00%\n",
      "Epoch 13/100 | train_loss: 0.6300 | train_acc: 95.00%\n",
      "Epoch 14/100 | train_loss: 0.6297 | train_acc: 95.00%\n",
      "Epoch 15/100 | train_loss: 0.6224 | train_acc: 95.00%\n",
      "Epoch 16/100 | train_loss: 0.6245 | train_acc: 93.00%\n",
      "Epoch 17/100 | train_loss: 0.6166 | train_acc: 95.00%\n",
      "Epoch 18/100 | train_loss: 0.6168 | train_acc: 95.00%\n",
      "Epoch 19/100 | train_loss: 0.6149 | train_acc: 94.00%\n",
      "Epoch 20/100 | train_loss: 0.6097 | train_acc: 98.00%\n",
      "Epoch 21/100 | train_loss: 0.6197 | train_acc: 94.00%\n",
      "Epoch 22/100 | train_loss: 0.6084 | train_acc: 96.00%\n",
      "Epoch 23/100 | train_loss: 0.6048 | train_acc: 94.00%\n",
      "Epoch 24/100 | train_loss: 0.6129 | train_acc: 94.00%\n",
      "Epoch 25/100 | train_loss: 0.6131 | train_acc: 94.00%\n",
      "Epoch 26/100 | train_loss: 0.6135 | train_acc: 94.00%\n",
      "Epoch 27/100 | train_loss: 0.6044 | train_acc: 94.00%\n",
      "Epoch 28/100 | train_loss: 0.6050 | train_acc: 94.00%\n",
      "Epoch 29/100 | train_loss: 0.6014 | train_acc: 95.00%\n",
      "Epoch 30/100 | train_loss: 0.6032 | train_acc: 94.00%\n",
      "Epoch 31/100 | train_loss: 0.6046 | train_acc: 95.00%\n",
      "Epoch 32/100 | train_loss: 0.6048 | train_acc: 94.00%\n",
      "Epoch 33/100 | train_loss: 0.5974 | train_acc: 96.00%\n",
      "Epoch 34/100 | train_loss: 0.6029 | train_acc: 94.00%\n",
      "Epoch 35/100 | train_loss: 0.5995 | train_acc: 95.00%\n",
      "Epoch 36/100 | train_loss: 0.5999 | train_acc: 94.00%\n",
      "Epoch 37/100 | train_loss: 0.5985 | train_acc: 95.00%\n",
      "Epoch 38/100 | train_loss: 0.5965 | train_acc: 97.00%\n",
      "Epoch 39/100 | train_loss: 0.5970 | train_acc: 94.00%\n",
      "Epoch 40/100 | train_loss: 0.5921 | train_acc: 95.00%\n",
      "Epoch 41/100 | train_loss: 0.5957 | train_acc: 95.00%\n",
      "Epoch 42/100 | train_loss: 0.5961 | train_acc: 94.00%\n",
      "Epoch 43/100 | train_loss: 0.5997 | train_acc: 96.00%\n",
      "Epoch 44/100 | train_loss: 0.5948 | train_acc: 96.00%\n",
      "Epoch 45/100 | train_loss: 0.5933 | train_acc: 97.00%\n",
      "Epoch 46/100 | train_loss: 0.5917 | train_acc: 97.00%\n",
      "Epoch 47/100 | train_loss: 0.5901 | train_acc: 97.00%\n",
      "Epoch 48/100 | train_loss: 0.5917 | train_acc: 96.00%\n",
      "Epoch 49/100 | train_loss: 0.5937 | train_acc: 95.00%\n",
      "Epoch 50/100 | train_loss: 0.5898 | train_acc: 96.00%\n",
      "Epoch 51/100 | train_loss: 0.5940 | train_acc: 96.00%\n",
      "Epoch 52/100 | train_loss: 0.5908 | train_acc: 96.00%\n",
      "Epoch 53/100 | train_loss: 0.5903 | train_acc: 96.00%\n",
      "Epoch 54/100 | train_loss: 0.5900 | train_acc: 97.00%\n",
      "Epoch 55/100 | train_loss: 0.5896 | train_acc: 96.00%\n",
      "Epoch 56/100 | train_loss: 0.5879 | train_acc: 96.00%\n",
      "Epoch 57/100 | train_loss: 0.5894 | train_acc: 96.00%\n",
      "Epoch 58/100 | train_loss: 0.5873 | train_acc: 98.00%\n",
      "Epoch 59/100 | train_loss: 0.5992 | train_acc: 94.00%\n",
      "Epoch 60/100 | train_loss: 0.5883 | train_acc: 96.00%\n",
      "Epoch 61/100 | train_loss: 0.5889 | train_acc: 97.00%\n",
      "Epoch 62/100 | train_loss: 0.5926 | train_acc: 96.00%\n",
      "Epoch 63/100 | train_loss: 0.5936 | train_acc: 95.00%\n",
      "Epoch 64/100 | train_loss: 0.5900 | train_acc: 97.00%\n",
      "Epoch 65/100 | train_loss: 0.5891 | train_acc: 97.00%\n",
      "Epoch 66/100 | train_loss: 0.5881 | train_acc: 96.00%\n",
      "Epoch 67/100 | train_loss: 0.5892 | train_acc: 96.00%\n",
      "Epoch 68/100 | train_loss: 0.5896 | train_acc: 96.00%\n",
      "Epoch 69/100 | train_loss: 0.5924 | train_acc: 96.00%\n",
      "Epoch 70/100 | train_loss: 0.5859 | train_acc: 98.00%\n",
      "Epoch 71/100 | train_loss: 0.5866 | train_acc: 97.00%\n",
      "Epoch 72/100 | train_loss: 0.5891 | train_acc: 96.00%\n",
      "Epoch 73/100 | train_loss: 0.5866 | train_acc: 95.00%\n",
      "Epoch 74/100 | train_loss: 0.5914 | train_acc: 95.00%\n",
      "Epoch 75/100 | train_loss: 0.5860 | train_acc: 96.00%\n",
      "Epoch 76/100 | train_loss: 0.5860 | train_acc: 96.00%\n",
      "Epoch 77/100 | train_loss: 0.5895 | train_acc: 96.00%\n",
      "Epoch 78/100 | train_loss: 0.5860 | train_acc: 97.00%\n",
      "Epoch 79/100 | train_loss: 0.5870 | train_acc: 97.00%\n",
      "Epoch 80/100 | train_loss: 0.5883 | train_acc: 97.00%\n",
      "Epoch 81/100 | train_loss: 0.5836 | train_acc: 98.00%\n",
      "Epoch 82/100 | train_loss: 0.5857 | train_acc: 97.00%\n",
      "Epoch 83/100 | train_loss: 0.5878 | train_acc: 96.00%\n",
      "Epoch 84/100 | train_loss: 0.5855 | train_acc: 96.00%\n",
      "Epoch 85/100 | train_loss: 0.5861 | train_acc: 96.00%\n",
      "Epoch 86/100 | train_loss: 0.5854 | train_acc: 97.00%\n",
      "Epoch 87/100 | train_loss: 0.5889 | train_acc: 96.00%\n",
      "Epoch 88/100 | train_loss: 0.5851 | train_acc: 97.00%\n",
      "Epoch 89/100 | train_loss: 0.5859 | train_acc: 97.00%\n",
      "Epoch 90/100 | train_loss: 0.5841 | train_acc: 97.00%\n",
      "Epoch 91/100 | train_loss: 0.5854 | train_acc: 96.00%\n",
      "Epoch 92/100 | train_loss: 0.5843 | train_acc: 97.00%\n",
      "Epoch 93/100 | train_loss: 0.5952 | train_acc: 95.00%\n",
      "Epoch 94/100 | train_loss: 0.5871 | train_acc: 96.00%\n",
      "Epoch 95/100 | train_loss: 0.5857 | train_acc: 97.00%\n",
      "Epoch 96/100 | train_loss: 0.5851 | train_acc: 97.00%\n",
      "Epoch 97/100 | train_loss: 0.5888 | train_acc: 96.00%\n",
      "Epoch 98/100 | train_loss: 0.5837 | train_acc: 97.00%\n",
      "Epoch 99/100 | train_loss: 0.5825 | train_acc: 97.00%\n",
      "Epoch 100/100 | train_loss: 0.5866 | train_acc: 96.00%\n"
     ]
    }
   ],
   "source": [
    "lr=0.01\n",
    "loss_fn=nn.CrossEntropyLoss()\n",
    "optimizer=torch.optim.Adam(model.parameters(), lr=lr)\n",
    "num_epochs=100\n",
    "\n",
    "epochs_loss_history, epochs_train_accuracy_history = train(model, optimizer, loss_fn, train_dl, num_epochs)"
   ]
  },
  {
   "attachments": {},
   "cell_type": "markdown",
   "metadata": {},
   "source": [
    "# Evaluate Neural Network Performance"
   ]
  },
  {
   "cell_type": "code",
   "execution_count": 11,
   "metadata": {},
   "outputs": [
    {
     "data": {
      "image/png": "[encoded data removed]",
      "text/plain": [
       "<Figure size 864x360 with 2 Axes>"
      ]
     },
     "metadata": {
      "needs_background": "light"
     },
     "output_type": "display_data"
    }
   ],
   "source": [
    "fig, axes = plt.subplots(nrows=1, ncols=2, figsize=(12,5))\n",
    "ax = axes.flatten()\n",
    "\n",
    "epochs = np.arange(1, num_epochs + 1, 1)\n",
    "\n",
    "ax[0].plot(epochs, epochs_loss_history, lw=3)\n",
    "ax[0].set_title('Training Loss')\n",
    "ax[0].set_xlabel('Epoch')\n",
    "ax[0].set_ylabel('Loss')\n",
    "ax[0].tick_params(axis='both', which='major', labelsize=15)\n",
    "\n",
    "ax[1].plot(epochs, epochs_train_accuracy_history, lw=3)\n",
    "ax[1].set_title('Training Accuracy')\n",
    "ax[1].set_xlabel('Epoch')\n",
    "ax[1].set_ylabel('Accuracy')\n",
    "ax[1].tick_params(axis='both', which='major', labelsize=15)"
   ]
  },
  {
   "attachments": {},
   "cell_type": "markdown",
   "metadata": {},
   "source": [
    "# Test Set Performance Evaluation"
   ]
  },
  {
   "cell_type": "code",
   "execution_count": 12,
   "metadata": {},
   "outputs": [],
   "source": [
    "def add_pr_curve_tensorboard(class_index, test_probs, test_label, global_step=0):\n",
    "    tensorboard_truth = test_label == class_index\n",
    "    tensorboard_probs = test_probs[:, class_index]\n",
    "    classes = ['Iris Setosa', 'Iris Versicolour', 'Iris Virginica']\n",
    "    writer.add_pr_curve(classes[class_index],\n",
    "                        tensorboard_truth,\n",
    "                        tensorboard_probs,\n",
    "                        global_step=global_step)\n",
    "    writer.flush()"
   ]
  },
  {
   "cell_type": "code",
   "execution_count": 13,
   "metadata": {},
   "outputs": [
    {
     "name": "stdout",
     "output_type": "stream",
     "text": [
      "Test acc: 98.00%\n"
     ]
    }
   ],
   "source": [
    "pred_test = model(X_test_normalized)\n",
    "\n",
    "correct_predictions = (torch.argmax(pred_test, dim=1) == y_test).float()\n",
    "test_accuracy = correct_predictions.mean()\n",
    "\n",
    "for class_index in range(3):\n",
    "    add_pr_curve_tensorboard(class_index, pred_test, y_test)\n",
    "\n",
    "\n",
    "print(f\"Test acc: {test_accuracy*100:.2f}%\")"
   ]
  },
  {
   "attachments": {},
   "cell_type": "markdown",
   "metadata": {},
   "source": [
    "# Saving Model Weights"
   ]
  },
  {
   "cell_type": "code",
   "execution_count": 132,
   "metadata": {},
   "outputs": [],
   "source": [
    "torch.save(model.state_dict(), 'model_weights.pt')"
   ]
  }
 ],
 "metadata": {
  "kernelspec": {
   "display_name": "Python 3",
   "language": "python",
   "name": "python3"
  },
  "language_info": {
   "codemirror_mode": {
    "name": "ipython",
    "version": 3
   },
   "file_extension": ".py",
   "mimetype": "text/x-python",
   "name": "python",
   "nbconvert_exporter": "python",
   "pygments_lexer": "ipython3",
   "version": "3.8.16"
  },
  "orig_nbformat": 4,
  "vscode": {
   "interpreter": {
    "hash": "d4d1e4263499bec80672ea0156c357c1ee493ec2b1c70f0acce89fc37c4a6abe"
   }
  }
 },
 "nbformat": 4,
 "nbformat_minor": 2
}
